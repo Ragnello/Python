{
  "nbformat": 4,
  "nbformat_minor": 0,
  "metadata": {
    "colab": {
      "name": "Listas.ipynb",
      "provenance": [],
      "collapsed_sections": [],
      "authorship_tag": "ABX9TyMqTVBPgy/K7x8I8ZlcWxfW",
      "include_colab_link": true
    },
    "kernelspec": {
      "name": "python3",
      "display_name": "Python 3"
    },
    "language_info": {
      "name": "python"
    }
  },
  "cells": [
    {
      "cell_type": "markdown",
      "metadata": {
        "id": "view-in-github",
        "colab_type": "text"
      },
      "source": [
        "<a href=\"https://colab.research.google.com/github/Ragnello/Python/blob/main/Listas.ipynb\" target=\"_parent\"><img src=\"https://colab.research.google.com/assets/colab-badge.svg\" alt=\"Open In Colab\"/></a>"
      ]
    },
    {
      "cell_type": "markdown",
      "metadata": {
        "id": "TAsqdPWwDAtk"
      },
      "source": [
        "# **LISTAS** ###"
      ]
    },
    {
      "cell_type": "markdown",
      "metadata": {
        "id": "svlNQ21oDnuy"
      },
      "source": [
        "### MODOS DE INICIAR UMA LISTA ###"
      ]
    },
    {
      "cell_type": "code",
      "metadata": {
        "colab": {
          "base_uri": "https://localhost:8080/"
        },
        "id": "eqBu7bkMDae4",
        "outputId": "5ab3d260-ebe6-4421-d1e4-b57456398b00"
      },
      "source": [
        "lista1 = []\n",
        "print(type(lista1))"
      ],
      "execution_count": null,
      "outputs": [
        {
          "output_type": "stream",
          "name": "stdout",
          "text": [
            "<class 'list'>\n"
          ]
        }
      ]
    },
    {
      "cell_type": "code",
      "metadata": {
        "colab": {
          "base_uri": "https://localhost:8080/"
        },
        "id": "f5a-sTifDlMG",
        "outputId": "816340d4-916f-42fe-ab3f-25696b1ae671"
      },
      "source": [
        "lista2 = list()\n",
        "print(type(lista2))"
      ],
      "execution_count": null,
      "outputs": [
        {
          "output_type": "stream",
          "name": "stdout",
          "text": [
            "<class 'list'>\n"
          ]
        }
      ]
    },
    {
      "cell_type": "markdown",
      "metadata": {
        "id": "RXcAfqLda71M"
      },
      "source": [
        "### LISTA COMPOSTA COM ANALISE DE DADOS ###"
      ]
    },
    {
      "cell_type": "code",
      "metadata": {
        "id": "VOmltVWA6axZ",
        "colab": {
          "base_uri": "https://localhost:8080/"
        },
        "outputId": "a665f306-fa48-4840-ccd0-026500f361ac"
      },
      "source": [
        "aux = []\n",
        "lista = []\n",
        "maior = menor = 0\n",
        "\n",
        "while True:\n",
        "  aux.append(str(input(\"Digite o nome: \")))\n",
        "  aux.append(float(input(\"Digite o peso: \")))\n",
        "  \n",
        "  if (len(lista) == 0):\n",
        "    maior = aux[1]\n",
        "    menor = aux[1]\n",
        "  else:\n",
        "    if (aux[1] > maior):\n",
        "      maior = aux[1]\n",
        "    if (aux[1] < menor):\n",
        "      menor = aux[1]\n",
        "      \n",
        "  lista.append(aux[:])\n",
        "  aux.clear()\n",
        "\n",
        "  resp = str(input(\"Deseja continuar? \"))\n",
        "  if resp in 'Nn':\n",
        "    break\n",
        "\n",
        "print('-=' * 30)\n",
        "print(f\"Os dados foram: {lista}\")\n",
        "print('-=' * 30)\n",
        "print(f\"O número de pessoas cadastradas foi {len(lista)}\")\n",
        "print('-=' * 30)\n",
        "print(f\"O maior peso foi de {maior}Kg. A(s) pessoa(s) mais pesada(s) é(são): \", end='')\n",
        "for p in lista:\n",
        "  if p[1] == maior:\n",
        "    print(f\"[{p[0]}]\", end='')\n",
        "print()\n",
        "print('-=' * 30)\n",
        "print(f\"O menor peso foi de {menor}Kg. A(s) pessoa(s) mais leve(s) é(são): \", end='')\n",
        "\n",
        "for p in lista:\n",
        "  if p[1] == menor:\n",
        "    print(f\"[{p[0]}]\", end='')\n",
        "print()\n",
        "print('-=' * 30)"
      ],
      "execution_count": null,
      "outputs": [
        {
          "output_type": "stream",
          "name": "stdout",
          "text": [
            "Digite o nome: Renato\n",
            "Digite o peso: 76\n",
            "Deseja continuar? s\n",
            "Digite o nome: Renan\n",
            "Digite o peso: 78\n",
            "Deseja continuar? s\n",
            "Digite o nome: Joana\n",
            "Digite o peso: 65\n",
            "Deseja continuar? n\n",
            "-=-=-=-=-=-=-=-=-=-=-=-=-=-=-=-=-=-=-=-=-=-=-=-=-=-=-=-=-=-=\n",
            "Os dados foram: [['Renato', 76.0], ['Renan', 78.0], ['Joana', 65.0]]\n",
            "-=-=-=-=-=-=-=-=-=-=-=-=-=-=-=-=-=-=-=-=-=-=-=-=-=-=-=-=-=-=\n",
            "O número de pessoas cadastradas foi 3\n",
            "-=-=-=-=-=-=-=-=-=-=-=-=-=-=-=-=-=-=-=-=-=-=-=-=-=-=-=-=-=-=\n",
            "O maior peso foi de 78.0Kg. A(s) pessoa(s) mais pesada(s) é(são): [Renan]\n",
            "-=-=-=-=-=-=-=-=-=-=-=-=-=-=-=-=-=-=-=-=-=-=-=-=-=-=-=-=-=-=\n",
            "O menor peso foi de 65.0Kg. A(s) pessoa(s) mais leve(s) é(são): [Joana]\n",
            "-=-=-=-=-=-=-=-=-=-=-=-=-=-=-=-=-=-=-=-=-=-=-=-=-=-=-=-=-=-=\n"
          ]
        }
      ]
    },
    {
      "cell_type": "markdown",
      "metadata": {
        "id": "0z8xV-edbRvr"
      },
      "source": [
        "### LISTA DE PARES E ÍMPARES ###"
      ]
    },
    {
      "cell_type": "code",
      "metadata": {
        "colab": {
          "base_uri": "https://localhost:8080/"
        },
        "id": "PzUfoAK5RTO0",
        "outputId": "86168aae-1e05-4c7d-96bd-046c52190886"
      },
      "source": [
        "lista = [[], []]\n",
        "numero = 0\n",
        "\n",
        "qtd = int(input(\"Digite a quantidade de números a serem analisados: \")\n",
        ")\n",
        "for c in range(0,qtd):\n",
        "  numero = int(input(f\"Digite o {c + 1}º número: \"))\n",
        "\n",
        "  if numero % 2 == 0:\n",
        "    lista[0].append(numero)\n",
        "  else:\n",
        "    lista[1].append(numero)\n",
        "lista[0].sort()\n",
        "lista[1].sort()\n",
        "\n",
        "print(\"=-\" * 30)\n",
        "print(f\"Pares: {lista[0]}\")\n",
        "print(f\"Ímpares: {lista[1]}\")"
      ],
      "execution_count": null,
      "outputs": [
        {
          "output_type": "stream",
          "name": "stdout",
          "text": [
            "Digite a quantidade de números a serem analisados: 10\n",
            "Digite o 1º número: 2\n",
            "Digite o 2º número: 4\n",
            "Digite o 3º número: 3\n",
            "Digite o 4º número: 6\n",
            "Digite o 5º número: 5\n",
            "Digite o 6º número: 12\n",
            "Digite o 7º número: 7\n",
            "Digite o 8º número: 9\n",
            "Digite o 9º número: 11\n",
            "Digite o 10º número: 23\n",
            "=-=-=-=-=-=-=-=-=-=-=-=-=-=-=-=-=-=-=-=-=-=-=-=-=-=-=-=-=-=-\n",
            "Pares: [2, 4, 6, 12]\n",
            "Ímpares: [3, 5, 7, 9, 11, 23]\n"
          ]
        }
      ]
    },
    {
      "cell_type": "markdown",
      "metadata": {
        "id": "_xwzXmh71VQs"
      },
      "source": [
        "### MATRIZ ###"
      ]
    },
    {
      "cell_type": "code",
      "metadata": {
        "colab": {
          "base_uri": "https://localhost:8080/"
        },
        "id": "PPa41d-xzLCI",
        "outputId": "df36478e-1296-40f0-c6bc-6e04bfe0ab2f"
      },
      "source": [
        "matriz = [[0,0,0], [0,0,0], [0,0,0]]\n",
        "\n",
        "for i in range(0,3):\n",
        "  for j in range (0,3):\n",
        "    matriz[i][j] = int(input(f\"Digite o valor que ficará em [{i}][{j}] na matriz: \"))\n",
        "\n",
        "print(\"-=\" * 10)\n",
        "for l in range(0,3):\n",
        "  for c in range(0,3):\n",
        "    print(f\"[{matriz[l][c]:^4}]\", end=\" \")\n",
        "  print()\n",
        "  print(\"-=\" *10)"
      ],
      "execution_count": null,
      "outputs": [
        {
          "output_type": "stream",
          "name": "stdout",
          "text": [
            "Digite o valor que ficará em [0][0] na matriz: 1\n",
            "Digite o valor que ficará em [0][1] na matriz: 2\n",
            "Digite o valor que ficará em [0][2] na matriz: 3\n",
            "Digite o valor que ficará em [1][0] na matriz: 4\n",
            "Digite o valor que ficará em [1][1] na matriz: 5\n",
            "Digite o valor que ficará em [1][2] na matriz: 6\n",
            "Digite o valor que ficará em [2][0] na matriz: 7\n",
            "Digite o valor que ficará em [2][1] na matriz: 8\n",
            "Digite o valor que ficará em [2][2] na matriz: 9\n",
            "-=-=-=-=-=-=-=-=-=-=\n",
            "[ 1  ] [ 2  ] [ 3  ] \n",
            "-=-=-=-=-=-=-=-=-=-=\n",
            "[ 4  ] [ 5  ] [ 6  ] \n",
            "-=-=-=-=-=-=-=-=-=-=\n",
            "[ 7  ] [ 8  ] [ 9  ] \n",
            "-=-=-=-=-=-=-=-=-=-=\n"
          ]
        }
      ]
    },
    {
      "cell_type": "markdown",
      "metadata": {
        "id": "2AtkX0Ca41PG"
      },
      "source": [
        "### MAIS SOBRE MATRIZES ###"
      ]
    },
    {
      "cell_type": "code",
      "metadata": {
        "colab": {
          "base_uri": "https://localhost:8080/"
        },
        "id": "Bp0jlNPE46gv",
        "outputId": "8b3449d5-ea78-4d7f-a537-cf7faef65242"
      },
      "source": [
        "matriz = [[0,0,0], [0,0,0], [0,0,0]]\n",
        "listaPar = []\n",
        "SomaPar = 0\n",
        "SomaTerCol = 0\n",
        "MaiorNumSegLin = 0\n",
        "\n",
        "for i in range(0,3):\n",
        "  for j in range (0,3):\n",
        "    matriz[i][j] = int(input(f\"Digite o valor que ficará em [{i}][{j}] na matriz: \"))\n",
        "    if matriz[i][j] % 2 == 0:\n",
        "      listaPar.append(matriz[i][j])\n",
        "      SomaPar += matriz[i][j]\n",
        "    if j == 2:\n",
        "      SomaTerCol += matriz[i][j]\n",
        "    if i == 1:\n",
        "      if j == 0:\n",
        "        MaiorNumSegLin = matriz[i][j]\n",
        "      else:\n",
        "        if matriz[i][j] > MaiorNumSegLin:\n",
        "          MaiorNumSegLin = matriz[i][j]\n",
        "\n",
        "print(\"-=\" * 20)\n",
        "for l in range(0,3):\n",
        "  for c in range(0,3):\n",
        "    print(f\"[{matriz[l][c]:^4}]\", end=\" \")\n",
        "  print()\n",
        "print(\"-=\" * 20)\n",
        "print(f\"Os números pares digitados foram: {listaPar}\")\n",
        "print(f\"A soma dos números pares digitados é: {SomaPar}\")\n",
        "print(\"-=\" * 20)\n",
        "print(f\"A soma dos números da terceira coluna é: {SomaTerCol}\")\n",
        "print(\"-=\" * 20)\n",
        "print(f\"O maior número da segunda linha é: {MaiorNumSegLin}\")"
      ],
      "execution_count": null,
      "outputs": [
        {
          "output_type": "stream",
          "name": "stdout",
          "text": [
            "Digite o valor que ficará em [0][0] na matriz: 1\n",
            "Digite o valor que ficará em [0][1] na matriz: 2\n",
            "Digite o valor que ficará em [0][2] na matriz: 3\n",
            "Digite o valor que ficará em [1][0] na matriz: 22\n",
            "Digite o valor que ficará em [1][1] na matriz: 444\n",
            "Digite o valor que ficará em [1][2] na matriz: 40\n",
            "Digite o valor que ficará em [2][0] na matriz: 6\n",
            "Digite o valor que ficará em [2][1] na matriz: 4\n",
            "Digite o valor que ficará em [2][2] na matriz: 1\n",
            "-=-=-=-=-=-=-=-=-=-=-=-=-=-=-=-=-=-=-=-=\n",
            "[ 1  ] [ 2  ] [ 3  ] \n",
            "[ 22 ] [444 ] [ 40 ] \n",
            "[ 6  ] [ 4  ] [ 1  ] \n",
            "-=-=-=-=-=-=-=-=-=-=-=-=-=-=-=-=-=-=-=-=\n",
            "Os números pares digitados foram: [2, 22, 444, 40, 6, 4]\n",
            "A soma dos números pares digitados é: 518\n",
            "-=-=-=-=-=-=-=-=-=-=-=-=-=-=-=-=-=-=-=-=\n",
            "A soma dos números da terceira coluna é: 44\n",
            "-=-=-=-=-=-=-=-=-=-=-=-=-=-=-=-=-=-=-=-=\n",
            "O maior número da segunda linha é: 444\n"
          ]
        }
      ]
    },
    {
      "cell_type": "markdown",
      "metadata": {
        "id": "Y9kslISe9Ha5"
      },
      "source": [
        "### JOGANDO NA MEGA SENA ###"
      ]
    },
    {
      "cell_type": "code",
      "metadata": {
        "colab": {
          "base_uri": "https://localhost:8080/"
        },
        "id": "OaSkCUnh6Ooi",
        "outputId": "6c713461-658c-4f0e-b6a0-627973b78219"
      },
      "source": [
        "from random import randint\n",
        "from time import sleep\n",
        "\n",
        "lista = []\n",
        "num = 0\n",
        "qtdJogos = 0\n",
        "\n",
        "print(\"-\" * 30)\n",
        "print(f\"     JOGANDO NA MEGA SENA     \")\n",
        "print(\"-\" * 30)\n",
        "print()\n",
        "qtdJogos = int(input(\"Quantos jogos você quer sortear? \"))\n",
        "print(\"-=\" * 20)\n",
        "print(f\"          SORTEANDO {qtdJogos} JOGOS          \")\n",
        "print(\"-=\" * 20)\n",
        "for i in range(0,qtdJogos):\n",
        "  cont = 0\n",
        "  while True:\n",
        "    num = randint(1,60)\n",
        "    if num not in lista:\n",
        "      lista.append(num)\n",
        "      cont += 1\n",
        "    if cont == 6:\n",
        "      break\n",
        "  lista.sort()\n",
        "  print(f\"Sorteando jogo {i+1}: {lista}\", end='')\n",
        "  print()\n",
        "  lista.clear()\n",
        "  sleep(1)\n",
        "\n",
        "print(\"-=\" * 20)\n",
        "print(\"FIM DO SORTEIO!!!\")"
      ],
      "execution_count": null,
      "outputs": [
        {
          "output_type": "stream",
          "name": "stdout",
          "text": [
            "------------------------------\n",
            "     JOGANDO NA MEGA SENA     \n",
            "------------------------------\n",
            "\n",
            "Quantos jogos você quer sortear? 10\n",
            "-=-=-=-=-=-=-=-=-=-=-=-=-=-=-=-=-=-=-=-=\n",
            "          SORTEANDO 10 JOGOS          \n",
            "-=-=-=-=-=-=-=-=-=-=-=-=-=-=-=-=-=-=-=-=\n",
            "Sorteando jogo 1: [1, 12, 29, 32, 33, 58]\n",
            "Sorteando jogo 2: [11, 12, 18, 31, 45, 54]\n",
            "Sorteando jogo 3: [3, 8, 16, 28, 43, 46]\n",
            "Sorteando jogo 4: [2, 28, 40, 46, 54, 56]\n",
            "Sorteando jogo 5: [11, 19, 45, 47, 49, 52]\n",
            "Sorteando jogo 6: [8, 12, 14, 39, 40, 43]\n",
            "Sorteando jogo 7: [20, 26, 39, 40, 49, 51]\n",
            "Sorteando jogo 8: [26, 34, 41, 43, 49, 53]\n",
            "Sorteando jogo 9: [12, 30, 33, 37, 49, 57]\n",
            "Sorteando jogo 10: [4, 10, 30, 46, 48, 52]\n",
            "-=-=-=-=-=-=-=-=-=-=-=-=-=-=-=-=-=-=-=-=\n",
            "FIM DO SORTEIO!!!\n"
          ]
        }
      ]
    },
    {
      "cell_type": "markdown",
      "metadata": {
        "id": "WyW1pouy4kz9"
      },
      "source": [
        "### BOLETIM COM LISTAS COMPOSTAS ###"
      ]
    },
    {
      "cell_type": "code",
      "metadata": {
        "id": "50nGhpSO9mVn",
        "colab": {
          "base_uri": "https://localhost:8080/"
        },
        "outputId": "866d5c23-9e29-47ae-f1b0-4dcf59eea21d"
      },
      "source": [
        "from time import sleep\n",
        "\n",
        "lista = list()\n",
        "aux = []\n",
        "media = 0\n",
        "\n",
        "while True:\n",
        "  aux.append(str(input(\"Digite o nome do aluno: \")))\n",
        "  aux.append(float(input(\"Digite a 1ª nota: \")))\n",
        "  aux.append(float(input(\"Digite a 2ª nota: \")))\n",
        "  \n",
        "  media = (aux[1]+aux[2])/2\n",
        "  aux.append(media)\n",
        "\n",
        "  lista.append(aux[:])\n",
        "  aux.clear()\n",
        "\n",
        "  resp = str(input(\"Deseja continuar? (S/N) \"))\n",
        "  if resp in 'Nn':\n",
        "    break\n",
        "print(\"-=\" * 30)\n",
        "print(f'{\"No.\":<4}{\"NOME\":<10}{\"MÉDIA\":>8}')\n",
        "print(\"-\" * 25)\n",
        "for i,l in enumerate(lista):\n",
        "  print(f'{i:<3} {l[0]:<10} {l[3]:>6.1f}')\n",
        "print(\"-\" * 25)\n",
        "\n",
        "while True:\n",
        "  index = int(input(\"Para ver as notas de algum dos alunos, digite o No. correspondente ao aluno (Para sair, digite 999): \"))\n",
        "  if index == 999:\n",
        "    sleep(1)\n",
        "    print(\"-=\"*3, \" PROGRAMA FINALIZADO \", \"-=\"*3)\n",
        "    break\n",
        "  else:\n",
        "    print(f\"As notas de {lista[index][0]} são: [{lista[index][1]} e {lista[index][2]}].\")"
      ],
      "execution_count": null,
      "outputs": [
        {
          "output_type": "stream",
          "name": "stdout",
          "text": [
            "Digite o nome do aluno: Renato\n",
            "Digite a 1ª nota: 5.5\n",
            "Digite a 2ª nota: 9\n",
            "Deseja continuar? s\n",
            "Digite o nome do aluno: Renan\n",
            "Digite a 1ª nota: 8\n",
            "Digite a 2ª nota: 7.5\n",
            "Deseja continuar? s\n",
            "Digite o nome do aluno: Ana\n",
            "Digite a 1ª nota: 4.6\n",
            "Digite a 2ª nota: 9\n",
            "Deseja continuar? S\n",
            "Digite o nome do aluno: Rogério\n",
            "Digite a 1ª nota: 10\n",
            "Digite a 2ª nota: 6.5\n",
            "Deseja continuar? n\n",
            "-=-=-=-=-=-=-=-=-=-=-=-=-=-=-=-=-=-=-=-=-=-=-=-=-=-=-=-=-=-=\n",
            "No. NOME         MÉDIA\n",
            "-------------------------\n",
            "0   Renato        7.2\n",
            "1   Renan         7.8\n",
            "2   Ana           6.8\n",
            "3   Rogério       8.2\n",
            "-------------------------\n",
            "Para ver as notas de algum dos alunos, digite o No. correspondente ao aluno (Para sair, digite 999): 2\n",
            "As notas de Ana são: [4.6 e 9.0].\n",
            "Para ver as notas de algum dos alunos, digite o No. correspondente ao aluno (Para sair, digite 999): 3\n",
            "As notas de Rogério são: [10.0 e 6.5].\n",
            "Para ver as notas de algum dos alunos, digite o No. correspondente ao aluno (Para sair, digite 999): 999\n",
            "-=-=-=  PRROGRAMA FINALIZADO  -=-=-=\n"
          ]
        }
      ]
    }
  ]
}