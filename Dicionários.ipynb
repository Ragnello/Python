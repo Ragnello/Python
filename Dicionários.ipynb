{
  "nbformat": 4,
  "nbformat_minor": 0,
  "metadata": {
    "colab": {
      "name": "Dicionários.ipynb",
      "provenance": [],
      "collapsed_sections": [],
      "authorship_tag": "ABX9TyP+fgyjB1CZyDq4OKPBru8J"
    },
    "kernelspec": {
      "name": "python3",
      "display_name": "Python 3"
    },
    "language_info": {
      "name": "python"
    }
  },
  "cells": [
    {
      "cell_type": "markdown",
      "metadata": {
        "id": "qmbQYYuK6_TC"
      },
      "source": [
        "# **DICIONÁRIOS** ###"
      ]
    },
    {
      "cell_type": "markdown",
      "metadata": {
        "id": "4xMawuaY7LQs"
      },
      "source": [
        "### MODOS DE INICIAR UM DICIONÁRIO ###"
      ]
    },
    {
      "cell_type": "code",
      "metadata": {
        "colab": {
          "base_uri": "https://localhost:8080/"
        },
        "id": "KPHesjzA6z_w",
        "outputId": "cff8a329-d806-49ff-9096-28f51ffe9a84"
      },
      "source": [
        "d1 = dict()\n",
        "print(type(d1))"
      ],
      "execution_count": null,
      "outputs": [
        {
          "output_type": "stream",
          "name": "stdout",
          "text": [
            "<class 'dict'>\n"
          ]
        }
      ]
    },
    {
      "cell_type": "code",
      "metadata": {
        "colab": {
          "base_uri": "https://localhost:8080/"
        },
        "id": "PO1NQnpR67Mc",
        "outputId": "967c0097-fc5e-427a-a4c6-7a239ff3f915"
      },
      "source": [
        "d2 = {}\n",
        "print(type(d2))"
      ],
      "execution_count": null,
      "outputs": [
        {
          "output_type": "stream",
          "name": "stdout",
          "text": [
            "<class 'dict'>\n"
          ]
        }
      ]
    },
    {
      "cell_type": "code",
      "metadata": {
        "id": "FgZVd2iY7O_K"
      },
      "source": [
        ""
      ],
      "execution_count": null,
      "outputs": []
    },
    {
      "cell_type": "markdown",
      "metadata": {
        "id": "3uhDVnNm7Pt3"
      },
      "source": [
        "### MÉTODOS IMPORTANTES ###"
      ]
    },
    {
      "cell_type": "code",
      "metadata": {
        "colab": {
          "base_uri": "https://localhost:8080/"
        },
        "id": "Siww9Iuv7RAB",
        "outputId": "0674ffb5-25e8-4748-bb84-fc4cb0012431"
      },
      "source": [
        "filme = {'Nome':'Star Wars', 'Ano':'1977','Diretor':'George Lucas'}\n",
        "filme.values() #Retorna o conteúdo das chaves(keys)"
      ],
      "execution_count": null,
      "outputs": [
        {
          "output_type": "execute_result",
          "data": {
            "text/plain": [
              "dict_values(['Star Wars', '1977', 'George Lucas'])"
            ]
          },
          "metadata": {},
          "execution_count": 5
        }
      ]
    },
    {
      "cell_type": "code",
      "metadata": {
        "colab": {
          "base_uri": "https://localhost:8080/"
        },
        "id": "7RXDLBsz7TLf",
        "outputId": "a413da3c-b5aa-4296-8806-5b586ca1acb3"
      },
      "source": [
        "filme.keys()   #Retorna as chaves (nesse caso: Nome, Ano e Diretor)"
      ],
      "execution_count": null,
      "outputs": [
        {
          "output_type": "execute_result",
          "data": {
            "text/plain": [
              "dict_keys(['Nome', 'Ano', 'Diretor'])"
            ]
          },
          "metadata": {},
          "execution_count": 6
        }
      ]
    },
    {
      "cell_type": "code",
      "metadata": {
        "colab": {
          "base_uri": "https://localhost:8080/"
        },
        "id": "LFH8Ycd17Ue2",
        "outputId": "f5cca887-fc89-4d28-f648-3c47f8c408ac"
      },
      "source": [
        "filme.items()  #Retorna chaves e conteúdos"
      ],
      "execution_count": null,
      "outputs": [
        {
          "output_type": "execute_result",
          "data": {
            "text/plain": [
              "dict_items([('Nome', 'Star Wars'), ('Ano', '1977'), ('Diretor', 'George Lucas')])"
            ]
          },
          "metadata": {},
          "execution_count": 7
        }
      ]
    },
    {
      "cell_type": "code",
      "metadata": {
        "colab": {
          "base_uri": "https://localhost:8080/"
        },
        "id": "TbYjaFrV7Vwd",
        "outputId": "82f899d3-b2d1-4887-8088-6efa7d33b372"
      },
      "source": [
        "for k,v in filme.items():\n",
        "  print(f\"O {k} é {v}.\")"
      ],
      "execution_count": null,
      "outputs": [
        {
          "output_type": "stream",
          "name": "stdout",
          "text": [
            "O Nome é Star Wars.\n",
            "O Ano é 1977.\n",
            "O Diretor é George Lucas.\n"
          ]
        }
      ]
    },
    {
      "cell_type": "markdown",
      "metadata": {
        "id": "tQIG7SvO7dHJ"
      },
      "source": [
        "### EXERCÍCIO SIMPLES ###"
      ]
    },
    {
      "cell_type": "code",
      "metadata": {
        "colab": {
          "base_uri": "https://localhost:8080/"
        },
        "id": "ILRibEhN7W0x",
        "outputId": "74b6b181-39d4-4358-bf8b-fccb78434384"
      },
      "source": [
        "Aluno = {'Nome': str(input(\"Nome: \"))}\n",
        "Aluno['Média'] = float(input(f\"A média de {Aluno['Nome'].capitalize()} é: \"))\n",
        "\n",
        "if Aluno['Média'] >= 7:\n",
        "  Aluno['Situação'] = \"APROVADO\"\n",
        "else:\n",
        "  Aluno['Situação'] = \"REPROVADO\"\n",
        "\n",
        "print(f\"O nome do(a) aluno(a) é {Aluno['Nome']}.\")\n",
        "print(f\"A média é igual a {Aluno['Média']}.\")\n",
        "print(f\"A situação é: {Aluno['Situação']}!\")\n",
        "print(\"-=\"*20)\n",
        "print(Aluno.items())"
      ],
      "execution_count": null,
      "outputs": [
        {
          "output_type": "stream",
          "name": "stdout",
          "text": [
            "Nome: Ana\n",
            "A média de Ana é: 7\n",
            "O nome do(a) aluno(a) é Ana.\n",
            "A média é igual a 7.0.\n",
            "A situação é: APROVADO!\n",
            "-=-=-=-=-=-=-=-=-=-=-=-=-=-=-=-=-=-=-=-=\n",
            "dict_items([('Nome', 'Ana'), ('Média', 7.0), ('Situação', 'APROVADO')])\n"
          ]
        }
      ]
    },
    {
      "cell_type": "markdown",
      "metadata": {
        "id": "E2BAsRl77idZ"
      },
      "source": [
        "### JOGO DE DADOS ###"
      ]
    },
    {
      "cell_type": "code",
      "metadata": {
        "colab": {
          "base_uri": "https://localhost:8080/"
        },
        "id": "d49QDzh57ZbI",
        "outputId": "321043e6-b219-486e-d7ba-ead7ebebeb87"
      },
      "source": [
        "from random import randint\n",
        "from time import sleep\n",
        "from operator import itemgetter\n",
        "\n",
        "jogo = {'Jogador 1': randint(1,6), 'Jogador 2': randint(1,6), 'Jogador 3': randint(1,6), 'Jogador 4': randint(1,6)}\n",
        "rank = dict()\n",
        "\n",
        "for k,v in jogo.items():\n",
        "  print(f\"O {k} tirou {v}.\")\n",
        "  sleep(1)\n",
        "print(\"-=\" * 10)\n",
        "print(f'{\"RANKING\":^20}')\n",
        "print(\"-=\" * 10)\n",
        "\n",
        "rank = sorted(jogo.items(), key=itemgetter(1), reverse=True)\n",
        "\n",
        "for i,v in enumerate(rank):\n",
        "  print(f\"{i+1}º Lugar: {v[0]} que tirou {v[1]} no dado.\")"
      ],
      "execution_count": null,
      "outputs": [
        {
          "output_type": "stream",
          "name": "stdout",
          "text": [
            "O Jogador 1 tirou 1.\n",
            "O Jogador 2 tirou 5.\n",
            "O Jogador 3 tirou 4.\n",
            "O Jogador 4 tirou 2.\n",
            "-=-=-=-=-=-=-=-=-=-=\n",
            "      RANKING       \n",
            "-=-=-=-=-=-=-=-=-=-=\n",
            "1º Lugar: Jogador 2 que tirou 5 no dado.\n",
            "2º Lugar: Jogador 3 que tirou 4 no dado.\n",
            "3º Lugar: Jogador 4 que tirou 2 no dado.\n",
            "4º Lugar: Jogador 1 que tirou 1 no dado.\n"
          ]
        }
      ]
    },
    {
      "cell_type": "markdown",
      "metadata": {
        "id": "IxHdBZIB77bd"
      },
      "source": [
        "### CADASTRO DE TRABALHADOR ###"
      ]
    },
    {
      "cell_type": "code",
      "metadata": {
        "colab": {
          "base_uri": "https://localhost:8080/"
        },
        "id": "PyTvVlos7oqK",
        "outputId": "11113185-5160-445f-f4b9-7155a64f58e1"
      },
      "source": [
        "trab = dict()\n",
        "\n",
        "trab['Nome'] = str(input(\"Digite o nome do(a) trabalhador(a): \"))\n",
        "trab['Ano'] = int(input(\"Digite o ano de nascimento: \"))\n",
        "trab['CTPS'] = int(input(\"Digite o número da carteira de trabalho Caso não possua, digite 0: \"))\n",
        "\n",
        "if trab['CTPS'] == 0:\n",
        "  print(\"-=\" * 30)\n",
        "  print(f\"Nome: {trab['Nome']}\")\n",
        "  print(f\"Idade: {2021 - trab['Ano']} anos\")\n",
        "  print(f\"NÃO POSSUI CARTEIRA DE TRABALHO\")\n",
        "  print(\"-=\" * 30)\n",
        "else:\n",
        "  trab['AnoCont'] = int(input(\"Digite o ano de contratação: \"))\n",
        "  trab['Salario'] = float(input(\"Digite o valor do salário: \"))\n",
        "\n",
        "  print(\"-=\" * 30)\n",
        "  print(f\"Nome: {trab['Nome']}\")\n",
        "  print(f\"Idade: {2021 - trab['Ano']} anos\")\n",
        "  print(f\"Ano de Contratação: {trab['AnoCont']}\")\n",
        "  print(f\"Salário: R${trab['Salario']}\")\n",
        "  print(f\"{trab['Nome']} vai se aposentar com {trab['AnoCont']- trab['Ano'] + 60} anos\")\n",
        "  print(\"-=\" * 30)"
      ],
      "execution_count": null,
      "outputs": [
        {
          "output_type": "stream",
          "name": "stdout",
          "text": [
            "Digite o nome do(a) trabalhador(a): João\n",
            "Digite o ano de nascimento: 1993\n",
            "Digite o número da carteira de trabalho Caso não possua, digite 0: 0\n",
            "-=-=-=-=-=-=-=-=-=-=-=-=-=-=-=-=-=-=-=-=-=-=-=-=-=-=-=-=-=-=\n",
            "Nome: João\n",
            "Idade: 28 anos\n",
            "NÃO POSSUI CARTEIRA DE TRABALHO\n",
            "-=-=-=-=-=-=-=-=-=-=-=-=-=-=-=-=-=-=-=-=-=-=-=-=-=-=-=-=-=-=\n"
          ]
        }
      ]
    },
    {
      "cell_type": "code",
      "metadata": {
        "colab": {
          "base_uri": "https://localhost:8080/"
        },
        "id": "TF09I7537-xo",
        "outputId": "cef612b9-8658-4ea1-d6d5-aa80e27378aa"
      },
      "source": [
        "print(trab)\n",
        "print(type(trab))"
      ],
      "execution_count": null,
      "outputs": [
        {
          "output_type": "stream",
          "name": "stdout",
          "text": [
            "{'Nome': 'João', 'Ano': 1993, 'CTPS': 0}\n",
            "<class 'dict'>\n"
          ]
        }
      ]
    },
    {
      "cell_type": "code",
      "metadata": {
        "colab": {
          "base_uri": "https://localhost:8080/"
        },
        "id": "bxc7sMPd8E4A",
        "outputId": "a74d0afe-f697-4f38-a043-2410be095e91"
      },
      "source": [
        "jogador = dict()\n",
        "gols = list()\n",
        "totalGols = 0\n",
        "\n",
        "jogador['Nome'] = str(input(\"Digite o nome do jogador: \"))\n",
        "partidas = int(input(f\"Quantas partidas {jogador['Nome']} jogou? \"))\n",
        "\n",
        "for i in range(0,partidas):\n",
        "  gols.append(int(input(f\"Quantos gols na partida {i+1}? \")))\n",
        "  totalGols += gols[i]\n",
        "jogador['Gols'] = gols[:]\n",
        "jogador['Total'] = totalGols\n",
        "\n",
        "print(\"-=\" * 30)\n",
        "print(f\"O jogador {jogador['Nome']} jogou {partidas} partidas.\")\n",
        "print(\"-=\" * 30)\n",
        "#for i in range(0,partidas):\n",
        "#  print(f\"  => Na partida {i+1} ele marcou {jogador['Gols'][i]} gols.\")\n",
        "for i, v in enumerate(jogador['Gols']):\n",
        "  print(f\"  => Na partida {i+1} ele marcou {v} gols.\")   \n",
        "print(f\"No total foram {totalGols} gols marcados.\")"
      ],
      "execution_count": null,
      "outputs": [
        {
          "output_type": "stream",
          "name": "stdout",
          "text": [
            "Digite o nome do jogador: Ronaldo\n",
            "Quantas partidas Ronaldo jogou? 5\n",
            "Quantos gols na partida 1? 3\n",
            "Quantos gols na partida 2? 0\n",
            "Quantos gols na partida 3? 2\n",
            "Quantos gols na partida 4? 1\n",
            "Quantos gols na partida 5? 2\n",
            "-=-=-=-=-=-=-=-=-=-=-=-=-=-=-=-=-=-=-=-=-=-=-=-=-=-=-=-=-=-=\n",
            "O jogador Ronaldo jogou 5 partidas.\n",
            "-=-=-=-=-=-=-=-=-=-=-=-=-=-=-=-=-=-=-=-=-=-=-=-=-=-=-=-=-=-=\n",
            "  => Na partida 1 ele marcou 3 gols.\n",
            "  => Na partida 2 ele marcou 0 gols.\n",
            "  => Na partida 3 ele marcou 2 gols.\n",
            "  => Na partida 4 ele marcou 1 gols.\n",
            "  => Na partida 5 ele marcou 2 gols.\n",
            "No total foram 8 gols marcados.\n"
          ]
        }
      ]
    },
    {
      "cell_type": "markdown",
      "metadata": {
        "id": "uGKX7-hd8Nnr"
      },
      "source": [
        "### UNINDO DICIONÁRIOS E LISTAS ###"
      ]
    },
    {
      "cell_type": "code",
      "metadata": {
        "colab": {
          "base_uri": "https://localhost:8080/"
        },
        "id": "Wd4A4e7y8HuY",
        "outputId": "f66a891a-a4e5-4250-f0e1-def10ddc9207"
      },
      "source": [
        "cadDict = dict()\n",
        "cadList = list()\n",
        "FemList = list()\n",
        "somaIdade = cont = mediaIdade = 0\n",
        "\n",
        "while True:\n",
        "\n",
        "  cadDict['Nome'] = str(input(\"Nome: \"))\n",
        "  cadDict['Idade'] = int(input(\"Idade: \"))\n",
        "  cadDict['Sexo'] = str(input(\"Sexo: [M/F]\"))\n",
        "  while cadDict['Sexo'] not in 'MmFf':\n",
        "    cadDict['Sexo'] = str(input(\"Digite um sexo válido! Sexo: [M/F] \"))\n",
        "  if cadDict['Sexo'] in 'Ff':\n",
        "    FemList.append(cadDict['Nome'])\n",
        "  somaIdade += cadDict['Idade']\n",
        "  cont += 1\n",
        "  cadList.append(cadDict.copy())\n",
        "  \n",
        "  resp = str(input(\"Deseja continuar? (S/N) \"))\n",
        "  while resp not in 'SsNn':\n",
        "    print(\"-=\"*3, f'{\"ERRO\":^16}', \"-=\"*3)\n",
        "    print(\"Digite uma resposta válida!\")\n",
        "    print(\"S para Sim\")\n",
        "    print(\"N para Não\")\n",
        "    resp = str(input(\"Resposta: \"))\n",
        "  if resp in 'Nn':\n",
        "    break\n",
        "\n",
        "mediaIdade = float(somaIdade/cont)\n",
        "\n",
        "print(\"-=\" * 30)\n",
        "print(f\"Foram cadastradas {cont} pessoas no total.\")\n",
        "print(f\"A média de idade é de: {mediaIdade}.\")\n",
        "print(f\"Lista de mulheres: \", end = '')\n",
        "for i,v in enumerate(cadList):\n",
        "  if v['Sexo'] in 'Ff':\n",
        "    print(f\"[{v['Nome']}] \", end='')\n",
        "print()\n",
        "print(\"-=\" * 30)\n",
        "print(\"Pessoas que tem idade acima da média:\")\n",
        "for i,v in enumerate(cadList):\n",
        "  if v['Idade'] > mediaIdade:\n",
        "    print(f\"Nome: {v['Nome']}; => Idade: {v['Idade']}; => Sexo: {v['Sexo']};\")\n",
        "print(\"-=\" * 30)"
      ],
      "execution_count": null,
      "outputs": [
        {
          "output_type": "stream",
          "name": "stdout",
          "text": [
            "Nome: João\n",
            "Idade: 25\n",
            "Sexo: [M/F]M\n",
            "Deseja continuar? (S/N) S\n",
            "Nome: Nathália\n",
            "Idade: 24\n",
            "Sexo: [M/F]F\n",
            "Deseja continuar? (S/N) S\n",
            "Nome: Robson\n",
            "Idade: 45\n",
            "Sexo: [M/F]M\n",
            "Deseja continuar? (S/N) S\n",
            "Nome: Gerson\n",
            "Idade: 66\n",
            "Sexo: [M/F]M\n",
            "Deseja continuar? (S/N) S\n",
            "Nome: Juliana\n",
            "Idade: 33\n",
            "Sexo: [M/F]F\n",
            "Deseja continuar? (S/N) n\n",
            "-=-=-=-=-=-=-=-=-=-=-=-=-=-=-=-=-=-=-=-=-=-=-=-=-=-=-=-=-=-=\n",
            "Foram cadastradas 5 pessoas no total.\n",
            "A média de idade é de: 38.6.\n",
            "Lista de mulheres: [Nathália] [Juliana] \n",
            "-=-=-=-=-=-=-=-=-=-=-=-=-=-=-=-=-=-=-=-=-=-=-=-=-=-=-=-=-=-=\n",
            "Pessoas que tem idade acima da média:\n",
            "Nome: Robson; => Idade: 45; => Sexo: M;\n",
            "Nome: Gerson; => Idade: 66; => Sexo: M;\n",
            "-=-=-=-=-=-=-=-=-=-=-=-=-=-=-=-=-=-=-=-=-=-=-=-=-=-=-=-=-=-=\n"
          ]
        }
      ]
    },
    {
      "cell_type": "markdown",
      "metadata": {
        "id": "D8fUmDHh8jTA"
      },
      "source": [
        "### APRIMORANDO DICIONÁRIOS ###"
      ]
    },
    {
      "cell_type": "code",
      "metadata": {
        "colab": {
          "base_uri": "https://localhost:8080/"
        },
        "id": "ZwIVkaQA8QqU",
        "outputId": "b8151e0e-c829-43fc-a692-c1aef28c4b51"
      },
      "source": [
        "time = list()\n",
        "jogador = dict()\n",
        "gols = list()\n",
        "\n",
        "while True:\n",
        "  totalGols = 0\n",
        "  jogador['Nome'] = str(input(\"Digite o nome do jogador: \"))\n",
        "  partidas = int(input(f\"Quantas partidas {jogador['Nome']} jogou? \"))\n",
        "\n",
        "  for i in range(0,partidas):\n",
        "    gols.append(int(input(f\"Quantos gols na partida {i+1}? \")))\n",
        "    totalGols += gols[i]\n",
        "  jogador['Gols'] = gols[:]\n",
        "  jogador['Total'] = totalGols\n",
        "\n",
        "  time.append(jogador.copy())\n",
        "  gols.clear()\n",
        "\n",
        "  resp = str(input(\"Deseja continuar? [S/N] \"))\n",
        "  if resp in 'Nn':\n",
        "    break\n",
        "\n",
        "print(\"-=\" * 20)\n",
        "print(f'{\"Cod.\":<6}{\"NOME\":<15}{\"GOLS\":<12}{\"TOTAL\":>7}')\n",
        "print(\"-\" * 40)\n",
        "\n",
        "for i,d in enumerate(time):\n",
        "  print(f\"{i:<6}\", end=\"\")\n",
        "  for v in d.values():\n",
        "      print(f\"{str(v):<15}\", end='')\n",
        "  print()\n",
        "print(\"-\" * 40)"
      ],
      "execution_count": null,
      "outputs": [
        {
          "output_type": "stream",
          "name": "stdout",
          "text": [
            "Digite o nome do jogador: Ronaldo\n",
            "Quantas partidas Ronaldo jogou? 2\n",
            "Quantos gols na partida 1? 3\n",
            "Quantos gols na partida 2? 1\n",
            "Deseja continuar? [S/N] S\n",
            "Digite o nome do jogador: Romário\n",
            "Quantas partidas Romário jogou? 3\n",
            "Quantos gols na partida 1? 2\n",
            "Quantos gols na partida 2? 0\n",
            "Quantos gols na partida 3? 3\n",
            "Deseja continuar? [S/N] S\n",
            "Digite o nome do jogador: Rivaldo\n",
            "Quantas partidas Rivaldo jogou? 5\n",
            "Quantos gols na partida 1? 2\n",
            "Quantos gols na partida 2? 3\n",
            "Quantos gols na partida 3? 1\n",
            "Quantos gols na partida 4? 0\n",
            "Quantos gols na partida 5? 2\n",
            "Deseja continuar? [S/N] N\n",
            "-=-=-=-=-=-=-=-=-=-=-=-=-=-=-=-=-=-=-=-=\n",
            "Cod.  NOME           GOLS          TOTAL\n",
            "----------------------------------------\n",
            "0     Ronaldo        [3, 1]         4              \n",
            "1     Romário        [2, 0, 3]      5              \n",
            "2     Rivaldo        [2, 3, 1, 0, 2]8              \n",
            "----------------------------------------\n"
          ]
        }
      ]
    }
  ]
}