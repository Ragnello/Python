{
  "nbformat": 4,
  "nbformat_minor": 0,
  "metadata": {
    "colab": {
      "name": "Funções.ipynb",
      "provenance": [],
      "collapsed_sections": [],
      "authorship_tag": "ABX9TyPsNldhASlSpmumdsum9qOt",
      "include_colab_link": true
    },
    "kernelspec": {
      "name": "python3",
      "display_name": "Python 3"
    },
    "language_info": {
      "name": "python"
    }
  },
  "cells": [
    {
      "cell_type": "markdown",
      "metadata": {
        "id": "view-in-github",
        "colab_type": "text"
      },
      "source": [
        "<a href=\"https://colab.research.google.com/github/Ragnello/Python/blob/main/Fun%C3%A7%C3%B5es.ipynb\" target=\"_parent\"><img src=\"https://colab.research.google.com/assets/colab-badge.svg\" alt=\"Open In Colab\"/></a>"
      ]
    },
    {
      "cell_type": "markdown",
      "metadata": {
        "id": "IlxKqW7S9KlX"
      },
      "source": [
        "# **FUNÇÕES** ###"
      ]
    },
    {
      "cell_type": "markdown",
      "metadata": {
        "id": "YdXJ9bj-9Pxa"
      },
      "source": [
        "### CÁLCULO DE ÁREA RETANGULAR ###"
      ]
    },
    {
      "cell_type": "code",
      "metadata": {
        "colab": {
          "base_uri": "https://localhost:8080/"
        },
        "id": "m7DWhGnI8-3O",
        "outputId": "abdd87c5-2e13-44e2-bc85-8166432f2bc9"
      },
      "source": [
        "def Area(l, c):\n",
        "  return float(l*c)\n",
        "\n",
        "larg = float(input(\"Digite o largura do terreno: \"))\n",
        "comp = float(input(\"Digite o comprimento do terreno: \"))\n",
        "\n",
        "area = Area(larg, comp)\n",
        "\n",
        "print(f\"A área do terreno é: {area:.1f} m².\")"
      ],
      "execution_count": null,
      "outputs": [
        {
          "output_type": "stream",
          "name": "stdout",
          "text": [
            "Digite o largura do terreno: 3\n",
            "Digite o comprimento do terreno: 5.2\n",
            "A área do terreno é: 15.6 m².\n"
          ]
        }
      ]
    },
    {
      "cell_type": "markdown",
      "metadata": {
        "id": "iVTZKMuo9YVN"
      },
      "source": [
        "### TEXTO ADAPTÁVEL ###"
      ]
    },
    {
      "cell_type": "code",
      "metadata": {
        "colab": {
          "base_uri": "https://localhost:8080/"
        },
        "id": "rsXAViGy9R43",
        "outputId": "91e4e582-d6f5-43a4-d1be-390552f5c194"
      },
      "source": [
        "def Escreva(msg):\n",
        "  print(\"-\" * len(msg))\n",
        "  print(msg)\n",
        "  print(\"-\" * len(msg))\n",
        "\n",
        "mensagem = str(input(\"Digite uma mensagem: \"))\n",
        "Escreva(mensagem)"
      ],
      "execution_count": null,
      "outputs": [
        {
          "output_type": "stream",
          "name": "stdout",
          "text": [
            "Digite uma mensagem: Bom dia, Aluno!\n",
            "---------------\n",
            "Bom dia, Aluno!\n",
            "---------------\n"
          ]
        }
      ]
    },
    {
      "cell_type": "markdown",
      "metadata": {
        "id": "Ej14aCWX9fLM"
      },
      "source": [
        "### FUNÇÃO DE CONTADOR ###"
      ]
    },
    {
      "cell_type": "code",
      "metadata": {
        "colab": {
          "base_uri": "https://localhost:8080/"
        },
        "id": "y-PL_he09aCn",
        "outputId": "48f4a19e-97b0-48a8-9f47-68ec0f261c15"
      },
      "source": [
        "from time import sleep\n",
        "\n",
        "def Contador(ini, fim, passo):\n",
        "  if passo == 0:\n",
        "    passo = 1\n",
        "  if(ini > fim) and (passo > 0):\n",
        "    auxPasso = -passo\n",
        "    auxFim = fim-1\n",
        "  else:\n",
        "    auxPasso = passo\n",
        "    auxFim = fim+1\n",
        "  print(f\"Contagem de {ini} até {fim} com passo de {passo}:\")\n",
        "  for i in range(ini, auxFim, auxPasso):\n",
        "    print(f\"{i}\", end=' ')\n",
        "    sleep(0.5)\n",
        "  \n",
        "print(\"-=\"*20)\n",
        "print(\"Contagem de 1 até 10 com passo de 1:\")\n",
        "for i in range(0,10):\n",
        "  print(f\"{i+1}\", end=' ')\n",
        "  sleep(0.5)\n",
        "print()\n",
        "print(\"-=\"*20)\n",
        "print(\"Contagem de 10 até 0 com passo de 2:\")\n",
        "for i in range(10,-1,-2):\n",
        "  print(f\"{i}\", end=' ')\n",
        "  sleep(0.5)\n",
        "print()\n",
        "print(\"-=\"*20)\n",
        "print(\"Personalize sua contagem!\")\n",
        "ini = int(input(\"Início: \"))\n",
        "fim = int(input(\"Fim: \"))\n",
        "passo = int(input(\"Passo: \"))\n",
        "print(\"-=\"*20)\n",
        "\n",
        "Contador(ini, fim, passo)"
      ],
      "execution_count": null,
      "outputs": [
        {
          "output_type": "stream",
          "name": "stdout",
          "text": [
            "-=-=-=-=-=-=-=-=-=-=-=-=-=-=-=-=-=-=-=-=\n",
            "Contagem de 1 até 10 com passo de 1:\n",
            "1 2 3 4 5 6 7 8 9 10 \n",
            "-=-=-=-=-=-=-=-=-=-=-=-=-=-=-=-=-=-=-=-=\n",
            "Contagem de 10 até 0 com passo de 2:\n",
            "10 8 6 4 2 0 \n",
            "-=-=-=-=-=-=-=-=-=-=-=-=-=-=-=-=-=-=-=-=\n",
            "Personalize sua contagem!\n",
            "Início: 90\n",
            "Fim: 40\n",
            "Passo: 5\n",
            "-=-=-=-=-=-=-=-=-=-=-=-=-=-=-=-=-=-=-=-=\n",
            "Contagem de 90 até 40 com passo de 5:\n",
            "90 85 80 75 70 65 60 55 50 45 40 "
          ]
        }
      ]
    },
    {
      "cell_type": "markdown",
      "metadata": {
        "id": "V9-8D3yd9qBa"
      },
      "source": [
        "### FUNÇÃO QUE DESCOBRE O MAIOR ###"
      ]
    },
    {
      "cell_type": "code",
      "metadata": {
        "colab": {
          "base_uri": "https://localhost:8080/"
        },
        "id": "EBEqr0ma9f9-",
        "outputId": "42b95df2-4e2c-49df-f727-9edee76feadb"
      },
      "source": [
        "from time import sleep\n",
        "from random import randint\n",
        "\n",
        "lista = list()\n",
        "\n",
        "def linha():\n",
        "  print(\"-=\"*20)\n",
        "\n",
        "def MaiorValor(* pacote):\n",
        "  maior = cont = 0\n",
        "  tam = len(pacote)\n",
        "  print(\"Analisando os valores...\")\n",
        "  for valor in pacote:\n",
        "    for i in range(0,len(valor)):\n",
        "      print(f\"{valor[i]}\", end=' ')\n",
        "      sleep(0.5)\n",
        "      cont += 1\n",
        "      if cont == 0:\n",
        "        maior = valor[i]\n",
        "      else:\n",
        "        if valor[i] > maior:\n",
        "          maior = valor[i]   \n",
        "  print()  \n",
        "  print(f\"O maior valor foi {maior}.\")\n",
        "  linha()\n",
        "\n",
        "while True:\n",
        "  qtd = randint(1,10)\n",
        "  for i in range(0,qtd):\n",
        "    lista.append(randint(1,10))\n",
        "  MaiorValor(lista)\n",
        "  lista.clear()\n",
        "\n",
        "  resp = str(input(\"Deseja fazer uma nova análise? [S/N]\\nResp: \"))\n",
        "  if resp not in 'SsNn':\n",
        "    while resp not in 'SsNn':\n",
        "      resp = str(input(\"Digite uma resposta válida!\\nS para SIM\\nN para NÃO\\nResp: \"))\n",
        "  if resp in 'Nn':\n",
        "    break\n"
      ],
      "execution_count": null,
      "outputs": [
        {
          "name": "stdout",
          "output_type": "stream",
          "text": [
            "Analisando os valores...\n",
            "7 3 3 3 \n",
            "O maior valor foi 7.\n",
            "-=-=-=-=-=-=-=-=-=-=-=-=-=-=-=-=-=-=-=-=\n",
            "Deseja fazer uma nova análise? [S/N]\n",
            "Resp: S\n",
            "Analisando os valores...\n",
            "9 2 10 4 \n",
            "O maior valor foi 10.\n",
            "-=-=-=-=-=-=-=-=-=-=-=-=-=-=-=-=-=-=-=-=\n",
            "Deseja fazer uma nova análise? [S/N]\n",
            "Resp: S\n",
            "Analisando os valores...\n",
            "3 \n",
            "O maior valor foi 3.\n",
            "-=-=-=-=-=-=-=-=-=-=-=-=-=-=-=-=-=-=-=-=\n",
            "Deseja fazer uma nova análise? [S/N]\n",
            "Resp: 3\n",
            "Digite uma resposta válida!\n",
            "S para SIM\n",
            "N para NÃO\n",
            "Resp: R\n",
            "Digite uma resposta válida!\n",
            "S para SIM\n",
            "N para NÃO\n",
            "Resp: S\n",
            "Analisando os valores...\n",
            "3 7 5 10 7 8 8 \n",
            "O maior valor foi 10.\n",
            "-=-=-=-=-=-=-=-=-=-=-=-=-=-=-=-=-=-=-=-=\n",
            "Deseja fazer uma nova análise? [S/N]\n",
            "Resp: S\n",
            "Analisando os valores...\n",
            "6 1 \n",
            "O maior valor foi 6.\n",
            "-=-=-=-=-=-=-=-=-=-=-=-=-=-=-=-=-=-=-=-=\n",
            "Deseja fazer uma nova análise? [S/N]\n",
            "Resp: N\n"
          ]
        }
      ]
    },
    {
      "cell_type": "markdown",
      "metadata": {
        "id": "cDC5poRq96gc"
      },
      "source": [
        "### FUNÇÕES PARA SORTEAR E SOMAR PARES ###"
      ]
    },
    {
      "cell_type": "code",
      "metadata": {
        "colab": {
          "base_uri": "https://localhost:8080/"
        },
        "id": "qwwRoznA9ro9",
        "outputId": "96083385-c47a-4c52-df29-23c7379be3ac"
      },
      "source": [
        "from random import randint\n",
        "\n",
        "def linha():\n",
        "  print(\"-=\"*20)\n",
        "\n",
        "def Sort():\n",
        "  listaSort = list()\n",
        "  qtd = randint(1,10)\n",
        "  print(f\"Serão sorteados {qtd} valores da lista...\")\n",
        "  linha()\n",
        "  for i in range(0, qtd):\n",
        "    num = randint(1,20)\n",
        "    listaSort.append(num)\n",
        "    print(num, end=' ')\n",
        "    sleep(0.5)\n",
        "  print()\n",
        "  return listaSort\n",
        "\n",
        "def SomaPar(* valores):\n",
        "  TotalPar = 0\n",
        "  for i in valores:\n",
        "    for j in i:\n",
        "      if j % 2 == 0:\n",
        "        TotalPar += j\n",
        "  print(f\"Somando os valores pares entre {i}, temos: {TotalPar}\")\n",
        "\n",
        "lista1 = Sort()\n",
        "linha()\n",
        "SomaPar(lista1)"
      ],
      "execution_count": null,
      "outputs": [
        {
          "output_type": "stream",
          "name": "stdout",
          "text": [
            "Serão sorteados 10 valores da lista...\n",
            "-=-=-=-=-=-=-=-=-=-=-=-=-=-=-=-=-=-=-=-=\n",
            "14 3 17 3 7 16 15 2 17 12 \n",
            "-=-=-=-=-=-=-=-=-=-=-=-=-=-=-=-=-=-=-=-=\n",
            "Somando os valores pares entre [14, 3, 17, 3, 7, 16, 15, 2, 17, 12], temos: 44\n"
          ]
        }
      ]
    },
    {
      "cell_type": "markdown",
      "metadata": {
        "id": "mRdSm2pT-E-6"
      },
      "source": [
        "### FUNÇÃO VOTAÇÃO ###"
      ]
    },
    {
      "cell_type": "code",
      "metadata": {
        "colab": {
          "base_uri": "https://localhost:8080/"
        },
        "id": "yWbl_dN398VQ",
        "outputId": "7da6ccc6-47cd-43fc-df14-cc1078b5cf1e"
      },
      "source": [
        "from datetime import date\n",
        "\n",
        "def Voto(ano):\n",
        "  atual = date.today().year\n",
        "  idade = atual - ano\n",
        "\n",
        "  if idade > 0 and ano <16:\n",
        "    print(f\"Você tem {idade} ano(s). NÃO VOTA!\")\n",
        "  elif (idade >= 16 and idade < 18) or idade > 65:\n",
        "    print(f\"Você tem {idade} ano(s). VOTO OPCIONAL!\")\n",
        "  else:\n",
        "    print(f\"Você tem {idade} ano(s). VOTO OBRIGATÓRIO!\")\n",
        "\n",
        "ano = int(input(\"Digite o ano de seu nascimento: \"))\n",
        "Voto(ano)"
      ],
      "execution_count": null,
      "outputs": [
        {
          "output_type": "stream",
          "name": "stdout",
          "text": [
            "Digite o ano de seu nascimento: 1960\n",
            "Você tem 61 ano(s). VOTO OBRIGATÓRIO!\n"
          ]
        }
      ]
    },
    {
      "cell_type": "markdown",
      "metadata": {
        "id": "NbOd9EtZ-K9j"
      },
      "source": [
        "### CÁLCULO DO FATORIAL DE UM NÚMERO ###"
      ]
    },
    {
      "cell_type": "code",
      "metadata": {
        "colab": {
          "base_uri": "https://localhost:8080/"
        },
        "id": "hDN-r_Fk-GkN",
        "outputId": "5ec0ee24-236b-4057-a370-10093e882767"
      },
      "source": [
        "def fatorial(n, show=False):\n",
        "  '''\n",
        "  => Calcula o fatorial de um número\n",
        "  Parâmetro 'n': Número a ser calculado\n",
        "  Parâmetro 'show' (Booleano): Parâmetro opcional que mostra (True) o não (False) a conta.\n",
        "  return: Retorna o valor do fatorial de n.\n",
        "  '''   \n",
        "  fat = 1\n",
        "  print(\"-\"*20)\n",
        "  for i in range(n,0,-1):\n",
        "    fat *= i\n",
        "    if show:\n",
        "      if i > 1:\n",
        "        print(f\"{i} x \", end='')\n",
        "      else:\n",
        "        print(\"1 = \", end='')\n",
        "  return fat\n",
        "\n",
        "print(fatorial(5, True))\n",
        "print(fatorial(6, False))\n",
        "print(fatorial(7))\n",
        "print(\"-\"*20)"
      ],
      "execution_count": null,
      "outputs": [
        {
          "output_type": "stream",
          "name": "stdout",
          "text": [
            "--------------------\n",
            "5 x 4 x 3 x 2 x 1 = 120\n",
            "--------------------\n",
            "720\n",
            "--------------------\n",
            "5040\n",
            "--------------------\n"
          ]
        }
      ]
    },
    {
      "cell_type": "code",
      "metadata": {
        "colab": {
          "base_uri": "https://localhost:8080/"
        },
        "id": "dKxosKcD-OCG",
        "outputId": "9850bdde-4cf6-41f1-a4e7-0e264d4c3b43"
      },
      "source": [
        "help(fatorial)"
      ],
      "execution_count": null,
      "outputs": [
        {
          "output_type": "stream",
          "name": "stdout",
          "text": [
            "Help on function fatorial in module __main__:\n",
            "\n",
            "fatorial(n, show=False)\n",
            "    => Calcula o fatorial de um número\n",
            "    Parâmetro 'n': Número a ser calculado\n",
            "    Parâmetro 'show' (Booleano): Parâmetro opcional que mostra (True) o não (False) a conta.\n",
            "    return: Retorna o valor do fatorial de n.\n",
            "\n"
          ]
        }
      ]
    },
    {
      "cell_type": "markdown",
      "metadata": {
        "id": "0E7JAJDc-UW4"
      },
      "source": [
        "### FICHA DE JOGADOR ###"
      ]
    },
    {
      "cell_type": "code",
      "metadata": {
        "colab": {
          "base_uri": "https://localhost:8080/"
        },
        "id": "O8JKCkun-Pr9",
        "outputId": "86a73562-3600-40e6-9dae-fe7edf9c0ae1"
      },
      "source": [
        "def ficha(nome, gols):\n",
        "  if nome == '':\n",
        "    nome='<desconhecido>'\n",
        "  if gols == '':\n",
        "    gols = 0\n",
        "  print(f\"O jogador {nome} fez {gols} gols no campeonato.\")\n",
        "\n",
        "nome = str(input(\"Nome do jogador: \"))\n",
        "gols = str(input(\"Número de gols: \"))\n",
        "\n",
        "ficha(nome, gols)"
      ],
      "execution_count": null,
      "outputs": [
        {
          "output_type": "stream",
          "name": "stdout",
          "text": [
            "Nome do jogador: Roberto Carlos\n",
            "Número de gols: \n",
            "O jogador Roberto Carlos fez 0 gols no campeonato.\n"
          ]
        }
      ]
    },
    {
      "cell_type": "markdown",
      "metadata": {
        "id": "t77g09RV-cXB"
      },
      "source": [
        "### VALIDANDO ENTRADAS ###"
      ]
    },
    {
      "cell_type": "code",
      "metadata": {
        "colab": {
          "base_uri": "https://localhost:8080/"
        },
        "id": "hfrXN4cj-WCV",
        "outputId": "999f669a-7d6a-415e-b7e7-519a4f283d36"
      },
      "source": [
        "def leiaInt(txt):\n",
        "  num = str(input(txt))\n",
        "  while True:\n",
        "    if num.isnumeric():\n",
        "      return int(num)\n",
        "    else:\n",
        "      num = str(input(\"ERRO! Digite um valor válido [número inteiro]: \"))\n",
        "\n",
        "n = leiaInt(\"Digite um número inteiro: \")\n",
        "print(f\"Você digitou o número {n}.\")"
      ],
      "execution_count": null,
      "outputs": [
        {
          "output_type": "stream",
          "name": "stdout",
          "text": [
            "Digite um número inteiro: 4.5\n",
            "ERRO! Digite um valor válido [número inteiro]: thaina\n",
            "ERRO! Digite um valor válido [número inteiro]: cinco\n",
            "ERRO! Digite um valor válido [número inteiro]: 42\n",
            "Você digitou o número 42.\n"
          ]
        }
      ]
    },
    {
      "cell_type": "markdown",
      "metadata": {
        "id": "0UNuOehw-mTx"
      },
      "source": [
        "### ANALISANDO E GERANDO DICIONÁRIOS ###"
      ]
    },
    {
      "cell_type": "code",
      "metadata": {
        "colab": {
          "base_uri": "https://localhost:8080/"
        },
        "id": "t_wLBdn1-d6N",
        "outputId": "d5443b0c-3c3e-4c5e-fe1d-51e18d3c4761"
      },
      "source": [
        "def notas(*n, sit=False):\n",
        "  '''\n",
        "  => Programa que avalia as notas e as situações dos alunos\n",
        "  Parâmetro 'n': lista de notas dos alunos (uma ou várias notas)\n",
        "  Parâmetro 'sit' (Booleano): Mostra (True) ou não (False) a situação do aluno\n",
        "  return: Dicionário contendo informações sobre a situação da turma \n",
        "  '''\n",
        "  turma = dict()\n",
        "  tam = len(n)\n",
        "  media = sum(n)/tam\n",
        "  maior = menor = 0\n",
        "  \n",
        "  for i,v in enumerate(n):\n",
        "    if i == 0:\n",
        "      maior = v\n",
        "      menor = v\n",
        "    else:\n",
        "      if v > maior:\n",
        "        maior = v\n",
        "      if v < menor:\n",
        "        menor = v\n",
        "\n",
        "  turma['Total'] = tam\n",
        "  turma['Maior'] = maior\n",
        "  turma['Menor'] = menor\n",
        "  turma['Média'] = media\n",
        "  if sit:\n",
        "    if media < 5:\n",
        "      turma['Situação'] = 'RUIM'\n",
        "    elif media >= 5 and media < 7:\n",
        "      turma['Situação'] = 'RAZOÁVEL'\n",
        "    else:\n",
        "      turma['Situação'] = 'BOA'\n",
        "\n",
        "  return turma\n",
        "\n",
        "resp = notas(5.5,2.5,1.5)\n",
        "print(resp)\n",
        "print(\"-=\" * 30)\n",
        "resp = notas(5.5,2.5,10,6.5)\n",
        "print(resp)\n",
        "print(\"-=\" * 30)\n",
        "resp = notas(5.5,2.5,10,6.5,7.7, 8, sit=True)\n",
        "print(resp)"
      ],
      "execution_count": null,
      "outputs": [
        {
          "output_type": "stream",
          "name": "stdout",
          "text": [
            "{'Total': 3, 'Maior': 5.5, 'Menor': 1.5, 'Média': 3.1666666666666665}\n",
            "-=-=-=-=-=-=-=-=-=-=-=-=-=-=-=-=-=-=-=-=-=-=-=-=-=-=-=-=-=-=\n",
            "{'Total': 4, 'Maior': 10, 'Menor': 2.5, 'Média': 6.125}\n",
            "-=-=-=-=-=-=-=-=-=-=-=-=-=-=-=-=-=-=-=-=-=-=-=-=-=-=-=-=-=-=\n",
            "{'Total': 6, 'Maior': 10, 'Menor': 2.5, 'Média': 6.7, 'Situação': 'RAZOÁVEL'}\n"
          ]
        }
      ]
    },
    {
      "cell_type": "code",
      "metadata": {
        "id": "T-9Cn7bo-qqP"
      },
      "source": [
        ""
      ],
      "execution_count": null,
      "outputs": []
    }
  ]
}